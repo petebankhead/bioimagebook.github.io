{
 "cells": [
  {
   "cell_type": "markdown",
   "id": "e04b4d85",
   "metadata": {},
   "source": [
    "# Python Primer"
   ]
  },
  {
   "cell_type": "markdown",
   "id": "7d8954a4",
   "metadata": {},
   "source": [
    ":::{admonition} Work in progress!\n",
    ":class: warning\n",
    "\n",
    "This section isn't complete yet.\n",
    ":::"
   ]
  },
  {
   "cell_type": "markdown",
   "id": "33427fb0",
   "metadata": {},
   "source": [
    "This section aims to provide *just enough* info to demystify the weird symbols and to get started with the Python [Python](https://www.python.org) programming language.\n",
    "\n",
    "To make sense of the code throughout this handbook see, it helps to be familiar with four main things:\n",
    "\n",
    "* **Comments** - which help explain what's happening\n",
    "* **Variables** - which store values\n",
    "* **Functions** - which do stuff with variables\n",
    "* **Modules** - which need to be imported to use the useful stuff (like functions) they contain\n",
    "\n",
    "This is far from everything you need to know to master programming, but it might just be enough to get started - and getting started if often the hardest part.\n",
    "\n",
    "I think it's fair to say that experienced programmers pick up most of what they know as they go along: aided by a great deal of googling* along the way.\n",
    "\n",
    "*-Or the use of some other preferred search engine."
   ]
  },
  {
   "cell_type": "markdown",
   "id": "cd1ecc73",
   "metadata": {},
   "source": [
    "## Comments\n",
    "\n",
    "Comments are explanations added to code that help explain what is going on.\n",
    "They aren't essential for the code to *run*, but often are essential to make sense of it.\n",
    "It's a very good idea to add comments to your own code - either for others to read, or for yourself in the future.\n",
    "\n",
    "In Python, a typical comment starts with a `#`"
   ]
  },
  {
   "cell_type": "code",
   "execution_count": 1,
   "id": "eeae9a75",
   "metadata": {},
   "outputs": [],
   "source": [
    "# This is a comment.\n",
    "# Each line needs a separate # to begin with.\n",
    "# If I run this code, nothing much will happen - because it's all comment and no action."
   ]
  },
  {
   "cell_type": "markdown",
   "id": "ea9bc2e4",
   "metadata": {},
   "source": [
    "## Variables\n",
    "\n",
    "Variables provide a place to store stuff: numbers, text, images and so on.\n",
    "\n",
    "You can think of it as a bit like algebra.\n",
    "If you see\n",
    "\n",
    "$$\n",
    "x + 5\n",
    "$$\n",
    "\n",
    "then *x* is the variable.\n",
    "\n",
    "When programming, you'll likely use variables all the time for different purposes and to represent different things.\n",
    "The type of the variable will determine what you can do with it.\n",
    "Some examples are given below."
   ]
  },
  {
   "cell_type": "markdown",
   "id": "e0cf74df",
   "metadata": {},
   "source": [
    "### Numbers\n",
    "\n",
    "A variable might be used to represent a number.\n",
    "You *assign* the number to the variable using `=`."
   ]
  },
  {
   "cell_type": "code",
   "execution_count": 2,
   "id": "b3b1910f",
   "metadata": {},
   "outputs": [
    {
     "data": {
      "text/plain": [
       "15"
      ]
     },
     "execution_count": 2,
     "metadata": {},
     "output_type": "execute_result"
    }
   ],
   "source": [
    "# Create a variable called 'x' and assign a value\n",
    "x = 10\n",
    "\n",
    "# Create a variable called 'y' and assign a value (by adding 5 to 'x')\n",
    "y = x + 5\n",
    "\n",
    "# Including a variable as the last line in a Jupter cell will mean it\n",
    "# is displayed when the cell is run\n",
    "y"
   ]
  },
  {
   "cell_type": "markdown",
   "id": "cabff01f",
   "metadata": {},
   "source": [
    "It's important to note that `=` doesn't really mean 'is equal to' in this case.\n",
    "Rather, when I see\n",
    "```\n",
    "x = 10\n",
    "```\n",
    "in my mind I read *'x becomes 10'* or alternatively *'set x to 10'*.\n",
    "\n",
    "The order is important: the variable being set is on the left and the value it is being set to is on the right.\n",
    "Switching the order can give an error - or a result you might not expect."
   ]
  },
  {
   "cell_type": "code",
   "execution_count": 3,
   "id": "52f5af70",
   "metadata": {},
   "outputs": [],
   "source": [
    "# Remove the # from the line below and try to run it (it will give an error)\n",
    "# x + 5 = y"
   ]
  },
  {
   "cell_type": "code",
   "execution_count": 4,
   "id": "0de7b197",
   "metadata": {},
   "outputs": [
    {
     "data": {
      "text/plain": [
       "20"
      ]
     },
     "execution_count": 4,
     "metadata": {},
     "output_type": "execute_result"
    }
   ],
   "source": [
    "x = 10\n",
    "y = 20\n",
    "\n",
    "# Note that order maters - only x is being changed here!\n",
    "# The value of x becomes 20, while y remains unchanged (i.e. still 20)\n",
    "x = y\n",
    "\n",
    "x"
   ]
  },
  {
   "cell_type": "markdown",
   "id": "9240046d",
   "metadata": {},
   "source": [
    "If you want to test if a variable is equal to something, you need to use `==` instead.\n",
    "The output of that will be either `True` or `False`."
   ]
  },
  {
   "cell_type": "code",
   "execution_count": 5,
   "id": "c0831be6",
   "metadata": {},
   "outputs": [
    {
     "data": {
      "text/plain": [
       "True"
      ]
     },
     "execution_count": 5,
     "metadata": {},
     "output_type": "execute_result"
    }
   ],
   "source": [
    "x = 10\n",
    "x == 10"
   ]
  },
  {
   "cell_type": "code",
   "execution_count": 6,
   "id": "684177f8",
   "metadata": {},
   "outputs": [
    {
     "data": {
      "text/plain": [
       "False"
      ]
     },
     "execution_count": 6,
     "metadata": {},
     "output_type": "execute_result"
    }
   ],
   "source": [
    "x = 20\n",
    "x == 10"
   ]
  },
  {
   "cell_type": "markdown",
   "id": "90b171cb",
   "metadata": {},
   "source": [
    "Note that, when using `==`, the order doesn't matter like it does with `=`."
   ]
  },
  {
   "cell_type": "code",
   "execution_count": 7,
   "id": "cf1886bc",
   "metadata": {},
   "outputs": [
    {
     "data": {
      "text/plain": [
       "True"
      ]
     },
     "execution_count": 7,
     "metadata": {},
     "output_type": "execute_result"
    }
   ],
   "source": [
    "x = 10\n",
    "10 == x"
   ]
  },
  {
   "cell_type": "markdown",
   "id": "db230eea",
   "metadata": {},
   "source": [
    "You aren't restricted to testing whether a variable itself is equal to a specific value.\n",
    "Rather, you can incorporate extra calculations and compare the results of these calculations to other values or variables."
   ]
  },
  {
   "cell_type": "code",
   "execution_count": 8,
   "id": "4e4878a9",
   "metadata": {},
   "outputs": [
    {
     "data": {
      "text/plain": [
       "True"
      ]
     },
     "execution_count": 8,
     "metadata": {},
     "output_type": "execute_result"
    }
   ],
   "source": [
    "x = 20\n",
    "y = x - 10\n",
    "x / 2 == y"
   ]
  },
  {
   "cell_type": "markdown",
   "id": "a4cd0e90",
   "metadata": {},
   "source": [
    "### Strings\n",
    "\n",
    "In computer parlance, a piece of text tends to be called a *string*.\n",
    "\n",
    "You can create a string by enclosing the text in some quotation marks."
   ]
  },
  {
   "cell_type": "code",
   "execution_count": 9,
   "id": "11e76e49",
   "metadata": {},
   "outputs": [
    {
     "data": {
      "text/plain": [
       "'This is my string variable'"
      ]
     },
     "execution_count": 9,
     "metadata": {},
     "output_type": "execute_result"
    }
   ],
   "source": [
    "s = 'This is my string variable'\n",
    "s"
   ]
  },
  {
   "cell_type": "markdown",
   "id": "9ca21721",
   "metadata": {},
   "source": [
    "In Python, both single and double quotation marks can be used.\n",
    "\n",
    "You can then do things like add strings together using the `+` symbol, which has the effect of concatenating them to create a new string."
   ]
  },
  {
   "cell_type": "code",
   "execution_count": 10,
   "id": "7a7fd96c",
   "metadata": {},
   "outputs": [
    {
     "data": {
      "text/plain": [
       "'First stringSecond string'"
      ]
     },
     "execution_count": 10,
     "metadata": {},
     "output_type": "execute_result"
    }
   ],
   "source": [
    "s1 = 'First string'  # Define one string\n",
    "s2 = \"Second string\" # Doesn't matter if we use single or double quotation marks\n",
    "s3 = s1 + s2\n",
    "s3"
   ]
  },
  {
   "cell_type": "markdown",
   "id": "e76ac6aa",
   "metadata": {},
   "source": [
    "It doesn't *usually* matter whether you use single or double quotes, but it can matter if you want to include the other kind of quotation mark *within* the string."
   ]
  },
  {
   "cell_type": "code",
   "execution_count": 11,
   "id": "120e9586",
   "metadata": {},
   "outputs": [],
   "source": [
    "# Remove the # from the line below and try to run it (it will give an error)\n",
    "# s = 'I wouldn't like this string to end early'"
   ]
  },
  {
   "cell_type": "markdown",
   "id": "ebacaddd",
   "metadata": {},
   "source": [
    "In the example above, the `'` within 'wouldn't' was misinterpreted as the end of the string, and an error is the result.\n",
    "\n",
    "There are two ways to get around that:\n",
    "1. Use double-quotes\n",
    "2. Use `\\'` to 'escape' the first quotation mark"
   ]
  },
  {
   "cell_type": "code",
   "execution_count": 12,
   "id": "406d0a38",
   "metadata": {},
   "outputs": [],
   "source": [
    "s = \"I wouldn't like this string to end early\"\n",
    "s2 = 'I wouldn\\'t like this string to end early'"
   ]
  },
  {
   "cell_type": "markdown",
   "id": "acf72bce",
   "metadata": {},
   "source": [
    "Another way to generate an error is to try to create a string that spans multiple lines."
   ]
  },
  {
   "cell_type": "code",
   "execution_count": 13,
   "id": "06170947",
   "metadata": {},
   "outputs": [],
   "source": [
    "# Remove # from the following lines and try to run them\n",
    "# s = \"a string\n",
    "# that tries to go across lines\""
   ]
  },
  {
   "cell_type": "markdown",
   "id": "cf2ab912",
   "metadata": {},
   "source": [
    "One way to get around that is to define the string using *3* double quotation marks `\"\"\"`.\n",
    "\n",
    "You can use multiline strings like this as an alternative to comments, to avoid needing to add `#` at the beginning."
   ]
  },
  {
   "cell_type": "code",
   "execution_count": 14,
   "id": "87966e6c",
   "metadata": {},
   "outputs": [
    {
     "data": {
      "text/plain": [
       "\"\\nThis is a string that isn't assigned to any variable.\\nIt can span multiple lines.\\nI can use it like a comment.\\n\""
      ]
     },
     "execution_count": 14,
     "metadata": {},
     "output_type": "execute_result"
    }
   ],
   "source": [
    "\"\"\"\n",
    "This is a string that isn't assigned to any variable.\n",
    "It can span multiple lines.\n",
    "I can use it like a comment.\n",
    "\"\"\""
   ]
  },
  {
   "cell_type": "markdown",
   "id": "592da8e0",
   "metadata": {},
   "source": [
    "### Lists"
   ]
  },
  {
   "cell_type": "markdown",
   "id": "875da41b",
   "metadata": {},
   "source": [
    "### Tuples"
   ]
  },
  {
   "cell_type": "markdown",
   "id": "268ed629",
   "metadata": {},
   "source": [
    "### Numpy arrays"
   ]
  },
  {
   "cell_type": "markdown",
   "id": "ec02cf49",
   "metadata": {},
   "source": [
    "### Dictionaries"
   ]
  },
  {
   "cell_type": "markdown",
   "id": "d8f524e8",
   "metadata": {},
   "source": [
    "## Functions"
   ]
  },
  {
   "cell_type": "markdown",
   "id": "e23caa73",
   "metadata": {},
   "source": [
    "### Defining functions"
   ]
  },
  {
   "cell_type": "markdown",
   "id": "76f7a3d8",
   "metadata": {},
   "source": [
    "## Modules"
   ]
  },
  {
   "cell_type": "code",
   "execution_count": null,
   "id": "b7d8cd2e",
   "metadata": {},
   "outputs": [],
   "source": []
  }
 ],
 "metadata": {
  "jupytext": {
   "formats": "md:myst",
   "text_representation": {
    "extension": ".md",
    "format_name": "myst",
    "format_version": 0.13,
    "jupytext_version": "1.10.3"
   }
  },
  "kernelspec": {
   "display_name": "Python 3",
   "language": "python",
   "name": "python3"
  },
  "language_info": {
   "codemirror_mode": {
    "name": "ipython",
    "version": 3
   },
   "file_extension": ".py",
   "mimetype": "text/x-python",
   "name": "python",
   "nbconvert_exporter": "python",
   "pygments_lexer": "ipython3",
   "version": "3.10.9"
  },
  "source_map": [
   13,
   17,
   25,
   42,
   52,
   56,
   75,
   82,
   92,
   104,
   109,
   118,
   123,
   128,
   131,
   135,
   138,
   143,
   147,
   155,
   158,
   164,
   169,
   173,
   176,
   184,
   187,
   191,
   195,
   201,
   207,
   211,
   215,
   219,
   223,
   227,
   231,
   235
  ]
 },
 "nbformat": 4,
 "nbformat_minor": 5
}