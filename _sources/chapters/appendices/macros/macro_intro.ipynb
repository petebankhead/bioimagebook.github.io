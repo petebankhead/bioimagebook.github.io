{
 "cells": [
  {
   "cell_type": "markdown",
   "id": "26841115",
   "metadata": {},
   "source": [
    "(chap_macro_intro)=\n",
    "# ImageJ: Writing macros \n",
    "\n",
    ":::{admonition} Chapter outline \n",
    ":class: tip\n",
    "\n",
    "* Processing & analysis steps in ImageJ can be automated by writing **macros**\n",
    "* Straightforward macros can be produced without any programming using the **Macro Recorder**\n",
    "* Recorded macros can be modified to make them more robust & suitable for a wider range of images \n",
    ":::"
   ]
  },
  {
   "cell_type": "code",
   "execution_count": 1,
   "id": "fbc0fc77",
   "metadata": {
    "tags": [
     "hide-cell",
     "thebe-init"
    ]
   },
   "outputs": [],
   "source": [
    "%load_ext autoreload\n",
    "%autoreload 2\n",
    "\n",
    "# Default imports\n",
    "import sys\n",
    "sys.path.append('../../../')\n",
    "from helpers import *\n",
    "from matplotlib import pyplot as plt\n",
    "from myst_nb import glue\n",
    "import numpy as np\n",
    "from scipy import ndimage"
   ]
  },
  {
   "cell_type": "markdown",
   "id": "7cb7189f",
   "metadata": {},
   "source": [
    "## Introduction \n",
    "\n",
    "It's one thing to figure out steps that enable you to analyze an image, it's quite another to implement these steps for several -- and perhaps many -- different images.\n",
    "Without automation, the analysis might never happen;\n",
    "all the mouse-moving and clicking would just be too time-consuming, error-prone or boring, and momentarily lapses in concentration could require starting over again. \n",
    "\n",
    "Even a brief effort to understand how to automate analysis can produce vast, long-lasting improvements in personal productivity and sanity by reducing the time spent on mind-numbingly repetitive tasks.\n",
    "In some straightforward cases (e.g.\n",
    "converting file formats, applying projections or filters, or making measurements across entire images), this can already be done in ImageJ using the commands in the {menuselection}`Process --> Batch -->` submenu and no programming whatsoever.\n",
    "But it's also very worthwhile to get some experience in producing macros, scripts or plugins, after which you can add your own new commands to the menus and carry out customized algorithms with a single click of a button or press of a key. \n",
    "\n",
    "### What's a macro?\n",
    "\n",
    "Macros are basically sequences of commands, written in some programming language (here ImageJ's own macro language), which can be run automatically to make processing faster and easier.\n",
    "\n",
    "The following sections are far from an extensive introduction to macro-writing, but rather aim to introduce the main ideas quickly using two worked examples.\n",
    "Should you wish to delve deeper into the subject, there's an [introduction to the language on the ImageJ website](https://imagej.net/developer/macro/macros.html) [^fn_1], and a [very helpful tutorial on the ImageJ wiki](https://imagej.net/Introduction_into_Macro_Programming) [^fn_2], while the list of [built-in macro functions](https://imagej.net/developer/macro/functions.html) is an indispensable reference [^fn_3].\n",
    "\n",
    ":::{admonition} Use Fiji's 'Script editor'\n",
    ":class: tip\n",
    "\n",
    "Although it's possible to use ImageJ rather than Fiji to create macros, Fiji's script editor makes the process *much* easier by coloring text according to what it does.\n",
    "I will assume that you are using this. \n",
    ":::\n",
    "\n",
    ":::{admonition} From macros to scripts\n",
    "Once confident with macros, the next step would be to enter the world of scripts and plugins.\n",
    "These can be somewhat more difficult to learn, but reward the effort with the ability to do more complicated things.\n",
    "Links to help with this are available at https://imagej.net/Scripting. \n",
    ":::\n",
    "\n",
    "\n",
    "[^fn_1]: <https://imagej.net/developer/macro/macros.html>\n",
    "\n",
    "[^fn_2]: <https://imagej.net/Introduction_into_Macro_Programming>\n",
    "\n",
    "[^fn_3]: <https://imagej.net/developer/macro/functions.html>"
   ]
  }
 ],
 "metadata": {
  "jupytext": {
   "formats": "md:myst",
   "text_representation": {
    "extension": ".md",
    "format_name": "myst",
    "format_version": 0.12,
    "jupytext_version": "1.7.1"
   }
  },
  "kernelspec": {
   "display_name": "Python 3",
   "language": "python",
   "name": "python3"
  },
  "language_info": {
   "codemirror_mode": {
    "name": "ipython",
    "version": 3
   },
   "file_extension": ".py",
   "mimetype": "text/x-python",
   "name": "python",
   "nbconvert_exporter": "python",
   "pygments_lexer": "ipython3",
   "version": "3.10.6"
  },
  "source_map": [
   13,
   26,
   40
  ]
 },
 "nbformat": 4,
 "nbformat_minor": 5
}